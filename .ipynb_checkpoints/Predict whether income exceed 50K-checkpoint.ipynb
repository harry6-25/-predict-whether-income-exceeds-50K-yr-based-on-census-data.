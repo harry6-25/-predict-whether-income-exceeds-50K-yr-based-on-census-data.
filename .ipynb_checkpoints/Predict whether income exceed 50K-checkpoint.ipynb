{
 "cells": [
  {
   "cell_type": "markdown",
   "id": "10b2f5fe",
   "metadata": {},
   "source": [
    "## 1. Import Libraries\n"
   ]
  },
  {
   "cell_type": "code",
   "execution_count": 1,
   "id": "7d507a75",
   "metadata": {},
   "outputs": [],
   "source": [
    "import pandas as pd\n",
    "import numpy as np\n",
    "import matplotlib.pyplot as plt\n",
    "import seaborn as sns"
   ]
  },
  {
   "cell_type": "markdown",
   "id": "1955414f",
   "metadata": {},
   "source": [
    "## 2. Exploratory Data Analysis"
   ]
  },
  {
   "cell_type": "markdown",
   "id": "d253cff2",
   "metadata": {},
   "source": [
    "### a) Preview Data"
   ]
  },
  {
   "cell_type": "code",
   "execution_count": 2,
   "id": "8f2d93ca",
   "metadata": {},
   "outputs": [],
   "source": [
    "df = pd.read_csv(\"adult.data.csv\")\n",
    "df.columns = [\"age\", \"workclass\", \"fnlwgt\",\"education\", \"education-num\", \"marital-status\", \"occupation\", \"relationship\", \"race\", \"sex\", \"capital-gain\", \"capital-loss\", \"hours-per-week\", \"native-country\", \"income>50K\"]"
   ]
  },
  {
   "cell_type": "code",
   "execution_count": 3,
   "id": "4aa8f980",
   "metadata": {},
   "outputs": [
    {
     "data": {
      "text/html": [
       "<div>\n",
       "<style scoped>\n",
       "    .dataframe tbody tr th:only-of-type {\n",
       "        vertical-align: middle;\n",
       "    }\n",
       "\n",
       "    .dataframe tbody tr th {\n",
       "        vertical-align: top;\n",
       "    }\n",
       "\n",
       "    .dataframe thead th {\n",
       "        text-align: right;\n",
       "    }\n",
       "</style>\n",
       "<table border=\"1\" class=\"dataframe\">\n",
       "  <thead>\n",
       "    <tr style=\"text-align: right;\">\n",
       "      <th></th>\n",
       "      <th>age</th>\n",
       "      <th>workclass</th>\n",
       "      <th>fnlwgt</th>\n",
       "      <th>education</th>\n",
       "      <th>education-num</th>\n",
       "      <th>marital-status</th>\n",
       "      <th>occupation</th>\n",
       "      <th>relationship</th>\n",
       "      <th>race</th>\n",
       "      <th>sex</th>\n",
       "      <th>capital-gain</th>\n",
       "      <th>capital-loss</th>\n",
       "      <th>hours-per-week</th>\n",
       "      <th>native-country</th>\n",
       "      <th>income&gt;50K</th>\n",
       "    </tr>\n",
       "  </thead>\n",
       "  <tbody>\n",
       "    <tr>\n",
       "      <th>0</th>\n",
       "      <td>50</td>\n",
       "      <td>Self-emp-not-inc</td>\n",
       "      <td>83311</td>\n",
       "      <td>Bachelors</td>\n",
       "      <td>13</td>\n",
       "      <td>Married-civ-spouse</td>\n",
       "      <td>Exec-managerial</td>\n",
       "      <td>Husband</td>\n",
       "      <td>White</td>\n",
       "      <td>Male</td>\n",
       "      <td>0</td>\n",
       "      <td>0</td>\n",
       "      <td>13</td>\n",
       "      <td>United-States</td>\n",
       "      <td>&lt;=50K</td>\n",
       "    </tr>\n",
       "    <tr>\n",
       "      <th>1</th>\n",
       "      <td>38</td>\n",
       "      <td>Private</td>\n",
       "      <td>215646</td>\n",
       "      <td>HS-grad</td>\n",
       "      <td>9</td>\n",
       "      <td>Divorced</td>\n",
       "      <td>Handlers-cleaners</td>\n",
       "      <td>Not-in-family</td>\n",
       "      <td>White</td>\n",
       "      <td>Male</td>\n",
       "      <td>0</td>\n",
       "      <td>0</td>\n",
       "      <td>40</td>\n",
       "      <td>United-States</td>\n",
       "      <td>&lt;=50K</td>\n",
       "    </tr>\n",
       "    <tr>\n",
       "      <th>2</th>\n",
       "      <td>53</td>\n",
       "      <td>Private</td>\n",
       "      <td>234721</td>\n",
       "      <td>11th</td>\n",
       "      <td>7</td>\n",
       "      <td>Married-civ-spouse</td>\n",
       "      <td>Handlers-cleaners</td>\n",
       "      <td>Husband</td>\n",
       "      <td>Black</td>\n",
       "      <td>Male</td>\n",
       "      <td>0</td>\n",
       "      <td>0</td>\n",
       "      <td>40</td>\n",
       "      <td>United-States</td>\n",
       "      <td>&lt;=50K</td>\n",
       "    </tr>\n",
       "    <tr>\n",
       "      <th>3</th>\n",
       "      <td>28</td>\n",
       "      <td>Private</td>\n",
       "      <td>338409</td>\n",
       "      <td>Bachelors</td>\n",
       "      <td>13</td>\n",
       "      <td>Married-civ-spouse</td>\n",
       "      <td>Prof-specialty</td>\n",
       "      <td>Wife</td>\n",
       "      <td>Black</td>\n",
       "      <td>Female</td>\n",
       "      <td>0</td>\n",
       "      <td>0</td>\n",
       "      <td>40</td>\n",
       "      <td>Cuba</td>\n",
       "      <td>&lt;=50K</td>\n",
       "    </tr>\n",
       "    <tr>\n",
       "      <th>4</th>\n",
       "      <td>37</td>\n",
       "      <td>Private</td>\n",
       "      <td>284582</td>\n",
       "      <td>Masters</td>\n",
       "      <td>14</td>\n",
       "      <td>Married-civ-spouse</td>\n",
       "      <td>Exec-managerial</td>\n",
       "      <td>Wife</td>\n",
       "      <td>White</td>\n",
       "      <td>Female</td>\n",
       "      <td>0</td>\n",
       "      <td>0</td>\n",
       "      <td>40</td>\n",
       "      <td>United-States</td>\n",
       "      <td>&lt;=50K</td>\n",
       "    </tr>\n",
       "  </tbody>\n",
       "</table>\n",
       "</div>"
      ],
      "text/plain": [
       "   age          workclass  fnlwgt   education  education-num  \\\n",
       "0   50   Self-emp-not-inc   83311   Bachelors             13   \n",
       "1   38            Private  215646     HS-grad              9   \n",
       "2   53            Private  234721        11th              7   \n",
       "3   28            Private  338409   Bachelors             13   \n",
       "4   37            Private  284582     Masters             14   \n",
       "\n",
       "        marital-status          occupation    relationship    race      sex  \\\n",
       "0   Married-civ-spouse     Exec-managerial         Husband   White     Male   \n",
       "1             Divorced   Handlers-cleaners   Not-in-family   White     Male   \n",
       "2   Married-civ-spouse   Handlers-cleaners         Husband   Black     Male   \n",
       "3   Married-civ-spouse      Prof-specialty            Wife   Black   Female   \n",
       "4   Married-civ-spouse     Exec-managerial            Wife   White   Female   \n",
       "\n",
       "   capital-gain  capital-loss  hours-per-week  native-country income>50K  \n",
       "0             0             0              13   United-States      <=50K  \n",
       "1             0             0              40   United-States      <=50K  \n",
       "2             0             0              40   United-States      <=50K  \n",
       "3             0             0              40            Cuba      <=50K  \n",
       "4             0             0              40   United-States      <=50K  "
      ]
     },
     "execution_count": 3,
     "metadata": {},
     "output_type": "execute_result"
    }
   ],
   "source": [
    "df.head()"
   ]
  },
  {
   "cell_type": "code",
   "execution_count": 4,
   "id": "fe31a354",
   "metadata": {},
   "outputs": [
    {
     "data": {
      "text/html": [
       "<div>\n",
       "<style scoped>\n",
       "    .dataframe tbody tr th:only-of-type {\n",
       "        vertical-align: middle;\n",
       "    }\n",
       "\n",
       "    .dataframe tbody tr th {\n",
       "        vertical-align: top;\n",
       "    }\n",
       "\n",
       "    .dataframe thead th {\n",
       "        text-align: right;\n",
       "    }\n",
       "</style>\n",
       "<table border=\"1\" class=\"dataframe\">\n",
       "  <thead>\n",
       "    <tr style=\"text-align: right;\">\n",
       "      <th></th>\n",
       "      <th>age</th>\n",
       "      <th>fnlwgt</th>\n",
       "      <th>education-num</th>\n",
       "      <th>capital-gain</th>\n",
       "      <th>capital-loss</th>\n",
       "      <th>hours-per-week</th>\n",
       "    </tr>\n",
       "  </thead>\n",
       "  <tbody>\n",
       "    <tr>\n",
       "      <th>count</th>\n",
       "      <td>32560.000000</td>\n",
       "      <td>3.256000e+04</td>\n",
       "      <td>32560.000000</td>\n",
       "      <td>32560.000000</td>\n",
       "      <td>32560.000000</td>\n",
       "      <td>32560.000000</td>\n",
       "    </tr>\n",
       "    <tr>\n",
       "      <th>mean</th>\n",
       "      <td>38.581634</td>\n",
       "      <td>1.897818e+05</td>\n",
       "      <td>10.080590</td>\n",
       "      <td>1077.615172</td>\n",
       "      <td>87.306511</td>\n",
       "      <td>40.437469</td>\n",
       "    </tr>\n",
       "    <tr>\n",
       "      <th>std</th>\n",
       "      <td>13.640642</td>\n",
       "      <td>1.055498e+05</td>\n",
       "      <td>2.572709</td>\n",
       "      <td>7385.402999</td>\n",
       "      <td>402.966116</td>\n",
       "      <td>12.347618</td>\n",
       "    </tr>\n",
       "    <tr>\n",
       "      <th>min</th>\n",
       "      <td>17.000000</td>\n",
       "      <td>1.228500e+04</td>\n",
       "      <td>1.000000</td>\n",
       "      <td>0.000000</td>\n",
       "      <td>0.000000</td>\n",
       "      <td>1.000000</td>\n",
       "    </tr>\n",
       "    <tr>\n",
       "      <th>25%</th>\n",
       "      <td>28.000000</td>\n",
       "      <td>1.178315e+05</td>\n",
       "      <td>9.000000</td>\n",
       "      <td>0.000000</td>\n",
       "      <td>0.000000</td>\n",
       "      <td>40.000000</td>\n",
       "    </tr>\n",
       "    <tr>\n",
       "      <th>50%</th>\n",
       "      <td>37.000000</td>\n",
       "      <td>1.783630e+05</td>\n",
       "      <td>10.000000</td>\n",
       "      <td>0.000000</td>\n",
       "      <td>0.000000</td>\n",
       "      <td>40.000000</td>\n",
       "    </tr>\n",
       "    <tr>\n",
       "      <th>75%</th>\n",
       "      <td>48.000000</td>\n",
       "      <td>2.370545e+05</td>\n",
       "      <td>12.000000</td>\n",
       "      <td>0.000000</td>\n",
       "      <td>0.000000</td>\n",
       "      <td>45.000000</td>\n",
       "    </tr>\n",
       "    <tr>\n",
       "      <th>max</th>\n",
       "      <td>90.000000</td>\n",
       "      <td>1.484705e+06</td>\n",
       "      <td>16.000000</td>\n",
       "      <td>99999.000000</td>\n",
       "      <td>4356.000000</td>\n",
       "      <td>99.000000</td>\n",
       "    </tr>\n",
       "  </tbody>\n",
       "</table>\n",
       "</div>"
      ],
      "text/plain": [
       "                age        fnlwgt  education-num  capital-gain  capital-loss  \\\n",
       "count  32560.000000  3.256000e+04   32560.000000  32560.000000  32560.000000   \n",
       "mean      38.581634  1.897818e+05      10.080590   1077.615172     87.306511   \n",
       "std       13.640642  1.055498e+05       2.572709   7385.402999    402.966116   \n",
       "min       17.000000  1.228500e+04       1.000000      0.000000      0.000000   \n",
       "25%       28.000000  1.178315e+05       9.000000      0.000000      0.000000   \n",
       "50%       37.000000  1.783630e+05      10.000000      0.000000      0.000000   \n",
       "75%       48.000000  2.370545e+05      12.000000      0.000000      0.000000   \n",
       "max       90.000000  1.484705e+06      16.000000  99999.000000   4356.000000   \n",
       "\n",
       "       hours-per-week  \n",
       "count    32560.000000  \n",
       "mean        40.437469  \n",
       "std         12.347618  \n",
       "min          1.000000  \n",
       "25%         40.000000  \n",
       "50%         40.000000  \n",
       "75%         45.000000  \n",
       "max         99.000000  "
      ]
     },
     "execution_count": 4,
     "metadata": {},
     "output_type": "execute_result"
    }
   ],
   "source": [
    "df.describe()"
   ]
  },
  {
   "cell_type": "markdown",
   "id": "b15afef4",
   "metadata": {},
   "source": [
    "### b) Replace ? with NaN"
   ]
  },
  {
   "cell_type": "code",
   "execution_count": 5,
   "id": "8c4aad36",
   "metadata": {},
   "outputs": [],
   "source": [
    "df = df.replace(r'\\?', np.nan, regex=True)"
   ]
  },
  {
   "cell_type": "markdown",
   "id": "da76bbdc",
   "metadata": {},
   "source": [
    "###  c) Check total number of entries and column types"
   ]
  },
  {
   "cell_type": "code",
   "execution_count": 6,
   "id": "03a4bc8b",
   "metadata": {},
   "outputs": [
    {
     "name": "stdout",
     "output_type": "stream",
     "text": [
      "<class 'pandas.core.frame.DataFrame'>\n",
      "RangeIndex: 32560 entries, 0 to 32559\n",
      "Data columns (total 15 columns):\n",
      " #   Column          Non-Null Count  Dtype \n",
      "---  ------          --------------  ----- \n",
      " 0   age             32560 non-null  int64 \n",
      " 1   workclass       30724 non-null  object\n",
      " 2   fnlwgt          32560 non-null  int64 \n",
      " 3   education       32560 non-null  object\n",
      " 4   education-num   32560 non-null  int64 \n",
      " 5   marital-status  32560 non-null  object\n",
      " 6   occupation      30717 non-null  object\n",
      " 7   relationship    32560 non-null  object\n",
      " 8   race            32560 non-null  object\n",
      " 9   sex             32560 non-null  object\n",
      " 10  capital-gain    32560 non-null  int64 \n",
      " 11  capital-loss    32560 non-null  int64 \n",
      " 12  hours-per-week  32560 non-null  int64 \n",
      " 13  native-country  31977 non-null  object\n",
      " 14  income>50K      32560 non-null  object\n",
      "dtypes: int64(6), object(9)\n",
      "memory usage: 3.7+ MB\n"
     ]
    }
   ],
   "source": [
    "df.info()"
   ]
  },
  {
   "cell_type": "markdown",
   "id": "2a79fb2e",
   "metadata": {},
   "source": [
    "### d) Distribution of Income "
   ]
  },
  {
   "cell_type": "code",
   "execution_count": 7,
   "id": "42aac1a8",
   "metadata": {},
   "outputs": [
    {
     "data": {
      "text/plain": [
       " <=50K    24719\n",
       " >50K      7841\n",
       "Name: income>50K, dtype: int64"
      ]
     },
     "execution_count": 7,
     "metadata": {},
     "output_type": "execute_result"
    }
   ],
   "source": [
    "df[\"income>50K\"].value_counts()"
   ]
  },
  {
   "cell_type": "code",
   "execution_count": 8,
   "id": "9a1ae6db",
   "metadata": {},
   "outputs": [
    {
     "data": {
      "text/plain": [
       "<AxesSubplot:ylabel='income>50K'>"
      ]
     },
     "execution_count": 8,
     "metadata": {},
     "output_type": "execute_result"
    },
    {
     "data": {
      "image/png": "[encoded data removed]",
      "text/plain": [
       "<Figure size 432x288 with 1 Axes>"
      ]
     },
     "metadata": {},
     "output_type": "display_data"
    }
   ],
   "source": [
    "df[\"income>50K\"].value_counts().plot.pie(autopct=\"%.2f%%\",explode=[0,0.1], shadow=True)"
   ]
  },
  {
   "cell_type": "markdown",
   "id": "6dfa4e57",
   "metadata": {},
   "source": [
    "### (i) By Age"
   ]
  },
  {
   "cell_type": "code",
   "execution_count": 9,
   "id": "6b8ba972",
   "metadata": {},
   "outputs": [
    {
     "data": {
      "text/plain": [
       "<AxesSubplot:xlabel='age', ylabel='Density'>"
      ]
     },
     "execution_count": 9,
     "metadata": {},
     "output_type": "execute_result"
    },
    {
     "data": {
      "image/png": "[encoded data removed]",
      "text/plain": [
       "<Figure size 432x288 with 1 Axes>"
      ]
     },
     "metadata": {
      "needs_background": "light"
     },
     "output_type": "display_data"
    }
   ],
   "source": [
    "sns.kdeplot(data=df, x=\"age\", hue=\"income>50K\")"
   ]
  },
  {
   "cell_type": "markdown",
   "id": "e376126b",
   "metadata": {},
   "source": [
    "### (ii) By Workclass"
   ]
  },
  {
   "cell_type": "code",
   "execution_count": 10,
   "id": "08a338d7",
   "metadata": {},
   "outputs": [
    {
     "data": {
      "image/png": "[encoded data removed]",
      "text/plain": [
       "<Figure size 432x288 with 1 Axes>"
      ]
     },
     "metadata": {
      "needs_background": "light"
     },
     "output_type": "display_data"
    }
   ],
   "source": [
    "sns.countplot(x=\"workclass\", data=df,hue=\"income>50K\")\n",
    "plt.xticks(rotation=90)\n",
    "plt.show()"
   ]
  },
  {
   "cell_type": "markdown",
   "id": "605dba51",
   "metadata": {},
   "source": [
    "### (iii) By fnlwgt"
   ]
  },
  {
   "cell_type": "code",
   "execution_count": 11,
   "id": "a7365215",
   "metadata": {},
   "outputs": [
    {
     "data": {
      "text/plain": [
       "[(0.0, 500000.0)]"
      ]
     },
     "execution_count": 11,
     "metadata": {},
     "output_type": "execute_result"
    },
    {
     "data": {
      "image/png": "[encoded data removed]",
      "text/plain": [
       "<Figure size 432x288 with 1 Axes>"
      ]
     },
     "metadata": {
      "needs_background": "light"
     },
     "output_type": "display_data"
    }
   ],
   "source": [
    "g = sns.kdeplot(data=df, x=\"fnlwgt\", hue=\"income>50K\")\n",
    "g.set(xlim=(0,500000))"
   ]
  },
  {
   "cell_type": "markdown",
   "id": "8c88ca69",
   "metadata": {},
   "source": [
    "### (iv) By Education"
   ]
  },
  {
   "cell_type": "code",
   "execution_count": 12,
   "id": "f848d908",
   "metadata": {},
   "outputs": [
    {
     "data": {
      "image/png": "[encoded data removed]",
      "text/plain": [
       "<Figure size 432x288 with 1 Axes>"
      ]
     },
     "metadata": {
      "needs_background": "light"
     },
     "output_type": "display_data"
    }
   ],
   "source": [
    "sns.countplot(x=\"education\", data=df,hue=\"income>50K\")\n",
    "plt.xticks(rotation=90)\n",
    "plt.show()"
   ]
  },
  {
   "cell_type": "markdown",
   "id": "d2c046ce",
   "metadata": {},
   "source": [
    "### (v) By Marital-Status"
   ]
  },
  {
   "cell_type": "code",
   "execution_count": 13,
   "id": "f1cad049",
   "metadata": {},
   "outputs": [
    {
     "data": {
      "image/png": "[encoded data removed]",
      "text/plain": [
       "<Figure size 432x288 with 1 Axes>"
      ]
     },
     "metadata": {
      "needs_background": "light"
     },
     "output_type": "display_data"
    }
   ],
   "source": [
    "sns.countplot(x=\"marital-status\", data=df,hue=\"income>50K\")\n",
    "plt.xticks(rotation=90)\n",
    "plt.show()"
   ]
  },
  {
   "cell_type": "markdown",
   "id": "dca6f188",
   "metadata": {},
   "source": [
    "### (vi) By Occupation"
   ]
  },
  {
   "cell_type": "code",
   "execution_count": 14,
   "id": "2a7fea35",
   "metadata": {},
   "outputs": [
    {
     "data": {
      "image/png": "[encoded data removed]",
      "text/plain": [
       "<Figure size 432x288 with 1 Axes>"
      ]
     },
     "metadata": {
      "needs_background": "light"
     },
     "output_type": "display_data"
    }
   ],
   "source": [
    "sns.countplot(x=\"occupation\", data=df,hue=\"income>50K\")\n",
    "plt.xticks(rotation=90)\n",
    "plt.show()"
   ]
  },
  {
   "cell_type": "markdown",
   "id": "ad40f323",
   "metadata": {},
   "source": [
    "### (vii) By Relationship"
   ]
  },
  {
   "cell_type": "code",
   "execution_count": 15,
   "id": "91323ebd",
   "metadata": {},
   "outputs": [
    {
     "data": {
      "image/png": "[encoded data removed]",
      "text/plain": [
       "<Figure size 432x288 with 1 Axes>"
      ]
     },
     "metadata": {
      "needs_background": "light"
     },
     "output_type": "display_data"
    }
   ],
   "source": [
    "sns.countplot(x=\"relationship\", data=df,hue=\"income>50K\")\n",
    "plt.xticks(rotation=90)\n",
    "plt.show()"
   ]
  },
  {
   "cell_type": "markdown",
   "id": "d5f98ed9",
   "metadata": {},
   "source": [
    "### (viii) By Race"
   ]
  },
  {
   "cell_type": "code",
   "execution_count": 16,
   "id": "cb86fdc7",
   "metadata": {},
   "outputs": [
    {
     "data": {
      "image/png": "[encoded data removed]",
      "text/plain": [
       "<Figure size 432x288 with 1 Axes>"
      ]
     },
     "metadata": {
      "needs_background": "light"
     },
     "output_type": "display_data"
    }
   ],
   "source": [
    "sns.countplot(x=\"race\", data=df,hue=\"income>50K\")\n",
    "plt.xticks(rotation=90)\n",
    "plt.show()"
   ]
  },
  {
   "cell_type": "markdown",
   "id": "4621556f",
   "metadata": {},
   "source": [
    "### (ix) By Sex"
   ]
  },
  {
   "cell_type": "code",
   "execution_count": 17,
   "id": "560903de",
   "metadata": {},
   "outputs": [
    {
     "data": {
      "image/png": "[encoded data removed]",
      "text/plain": [
       "<Figure size 432x288 with 1 Axes>"
      ]
     },
     "metadata": {
      "needs_background": "light"
     },
     "output_type": "display_data"
    }
   ],
   "source": [
    "sns.countplot(x=\"sex\", data=df,hue=\"income>50K\")\n",
    "plt.xticks(rotation=90)\n",
    "plt.show()"
   ]
  },
  {
   "cell_type": "markdown",
   "id": "38199dba",
   "metadata": {},
   "source": [
    "### (x) By Capital-Gain"
   ]
  },
  {
   "cell_type": "code",
   "execution_count": 18,
   "id": "1919b78b",
   "metadata": {},
   "outputs": [
    {
     "data": {
      "image/png": "[encoded data removed]",
      "text/plain": [
       "<Figure size 432x288 with 1 Axes>"
      ]
     },
     "metadata": {
      "needs_background": "light"
     },
     "output_type": "display_data"
    }
   ],
   "source": [
    "g = sns.kdeplot(data=df, x=\"capital-gain\", hue=\"income>50K\")"
   ]
  },
  {
   "cell_type": "markdown",
   "id": "f5f51c10",
   "metadata": {},
   "source": [
    "### (xi)By Capital-Loss"
   ]
  },
  {
   "cell_type": "code",
   "execution_count": 19,
   "id": "5b960224",
   "metadata": {},
   "outputs": [
    {
     "data": {
      "image/png": "[encoded data removed]",
      "text/plain": [
       "<Figure size 432x288 with 1 Axes>"
      ]
     },
     "metadata": {
      "needs_background": "light"
     },
     "output_type": "display_data"
    }
   ],
   "source": [
    "g = sns.kdeplot(data=df, x=\"capital-loss\", hue=\"income>50K\")"
   ]
  },
  {
   "cell_type": "markdown",
   "id": "aae268d9",
   "metadata": {},
   "source": [
    "### (xii) By Hours-per-Week"
   ]
  },
  {
   "cell_type": "code",
   "execution_count": 20,
   "id": "56b7eb8b",
   "metadata": {},
   "outputs": [
    {
     "data": {
      "image/png": "[encoded data removed]",
      "text/plain": [
       "<Figure size 432x288 with 1 Axes>"
      ]
     },
     "metadata": {
      "needs_background": "light"
     },
     "output_type": "display_data"
    }
   ],
   "source": [
    "g = sns.kdeplot(data=df, x=\"hours-per-week\", hue=\"income>50K\")"
   ]
  },
  {
   "cell_type": "markdown",
   "id": "d66516c8",
   "metadata": {},
   "source": [
    "### (xiii) By Native Country"
   ]
  },
  {
   "cell_type": "code",
   "execution_count": 21,
   "id": "54bc7fa7",
   "metadata": {},
   "outputs": [
    {
     "data": {
      "image/png": "[encoded data removed]",
      "text/plain": [
       "<Figure size 432x288 with 1 Axes>"
      ]
     },
     "metadata": {
      "needs_background": "light"
     },
     "output_type": "display_data"
    }
   ],
   "source": [
    "sns.countplot(x=\"native-country\", data=df,hue=\"income>50K\")\n",
    "plt.xticks(rotation=90)\n",
    "plt.show()"
   ]
  },
  {
   "cell_type": "markdown",
   "id": "fc4fc27b",
   "metadata": {},
   "source": [
    "## d) Handle Null Values"
   ]
  },
  {
   "cell_type": "code",
   "execution_count": 22,
   "id": "108e5a51",
   "metadata": {},
   "outputs": [
    {
     "data": {
      "text/plain": [
       "age                  0\n",
       "workclass         1836\n",
       "fnlwgt               0\n",
       "education            0\n",
       "education-num        0\n",
       "marital-status       0\n",
       "occupation        1843\n",
       "relationship         0\n",
       "race                 0\n",
       "sex                  0\n",
       "capital-gain         0\n",
       "capital-loss         0\n",
       "hours-per-week       0\n",
       "native-country     583\n",
       "income>50K           0\n",
       "dtype: int64"
      ]
     },
     "execution_count": 22,
     "metadata": {},
     "output_type": "execute_result"
    }
   ],
   "source": [
    "df.isnull().sum()"
   ]
  },
  {
   "cell_type": "code",
   "execution_count": 23,
   "id": "b8e7ee2e",
   "metadata": {},
   "outputs": [],
   "source": [
    "## Replace Missing Value with the Most Frequent Value\n",
    "df[\"workclass\"].fillna(df[\"workclass\"].mode().iloc[0],inplace=True)\n",
    "df[\"occupation\"].fillna(df[\"occupation\"].mode().iloc[0],inplace=True)\n",
    "df[\"native-country\"].fillna(df[\"native-country\"].mode().iloc[0],inplace=True)"
   ]
  },
  {
   "cell_type": "code",
   "execution_count": 24,
   "id": "8292851b",
   "metadata": {},
   "outputs": [
    {
     "data": {
      "text/plain": [
       "age               0\n",
       "workclass         0\n",
       "fnlwgt            0\n",
       "education         0\n",
       "education-num     0\n",
       "marital-status    0\n",
       "occupation        0\n",
       "relationship      0\n",
       "race              0\n",
       "sex               0\n",
       "capital-gain      0\n",
       "capital-loss      0\n",
       "hours-per-week    0\n",
       "native-country    0\n",
       "income>50K        0\n",
       "dtype: int64"
      ]
     },
     "execution_count": 24,
     "metadata": {},
     "output_type": "execute_result"
    }
   ],
   "source": [
    "df.isnull().sum()"
   ]
  },
  {
   "cell_type": "markdown",
   "id": "7e3e2f1b",
   "metadata": {},
   "source": [
    "## e) Feature Engineering"
   ]
  },
  {
   "cell_type": "markdown",
   "id": "c5ca6267",
   "metadata": {},
   "source": [
    "### (i) Workclass"
   ]
  },
  {
   "cell_type": "code",
   "execution_count": 25,
   "id": "63571eaa",
   "metadata": {},
   "outputs": [],
   "source": [
    "## ) Converting Nominal/Categorical Data into Ordinal Data\n",
    "workclass_list = df.workclass.unique()"
   ]
  },
  {
   "cell_type": "code",
   "execution_count": 26,
   "id": "c93f4173",
   "metadata": {},
   "outputs": [
    {
     "data": {
      "text/plain": [
       "8"
      ]
     },
     "execution_count": 26,
     "metadata": {},
     "output_type": "execute_result"
    }
   ],
   "source": [
    "df.workclass.nunique()"
   ]
  },
  {
   "cell_type": "code",
   "execution_count": 27,
   "id": "41a3f3d0",
   "metadata": {},
   "outputs": [],
   "source": [
    "df.workclass.replace(df.workclass.unique(),range(0,8),inplace=True)"
   ]
  },
  {
   "cell_type": "code",
   "execution_count": 28,
   "id": "574d7d5e",
   "metadata": {},
   "outputs": [
    {
     "data": {
      "text/plain": [
       "0        0\n",
       "1        1\n",
       "2        1\n",
       "3        1\n",
       "4        1\n",
       "        ..\n",
       "32555    1\n",
       "32556    1\n",
       "32557    1\n",
       "32558    1\n",
       "32559    5\n",
       "Name: workclass, Length: 32560, dtype: int64"
      ]
     },
     "execution_count": 28,
     "metadata": {},
     "output_type": "execute_result"
    }
   ],
   "source": [
    "df.workclass"
   ]
  },
  {
   "cell_type": "markdown",
   "id": "be6f61f6",
   "metadata": {},
   "source": [
    "### (ii) Marital Status"
   ]
  },
  {
   "cell_type": "code",
   "execution_count": 29,
   "id": "11bd7c6d",
   "metadata": {},
   "outputs": [],
   "source": [
    "marital_status_list = df[\"marital-status\"].unique()"
   ]
  },
  {
   "cell_type": "code",
   "execution_count": 30,
   "id": "7e6d2bd3",
   "metadata": {},
   "outputs": [
    {
     "data": {
      "text/plain": [
       "7"
      ]
     },
     "execution_count": 30,
     "metadata": {},
     "output_type": "execute_result"
    }
   ],
   "source": [
    "df[\"marital-status\"].nunique()"
   ]
  },
  {
   "cell_type": "code",
   "execution_count": 31,
   "id": "a724d7cd",
   "metadata": {},
   "outputs": [],
   "source": [
    "df[\"marital-status\"].replace(df[\"marital-status\"].unique(),range(0,7),inplace=True)"
   ]
  },
  {
   "cell_type": "code",
   "execution_count": 32,
   "id": "42a93fa6",
   "metadata": {},
   "outputs": [
    {
     "data": {
      "text/plain": [
       "0        0\n",
       "1        1\n",
       "2        0\n",
       "3        0\n",
       "4        0\n",
       "        ..\n",
       "32555    0\n",
       "32556    0\n",
       "32557    6\n",
       "32558    3\n",
       "32559    0\n",
       "Name: marital-status, Length: 32560, dtype: int64"
      ]
     },
     "execution_count": 32,
     "metadata": {},
     "output_type": "execute_result"
    }
   ],
   "source": [
    "df[\"marital-status\"]"
   ]
  },
  {
   "cell_type": "markdown",
   "id": "74b2c702",
   "metadata": {},
   "source": [
    "### (iii) occupation"
   ]
  },
  {
   "cell_type": "code",
   "execution_count": 33,
   "id": "c2e9eccc",
   "metadata": {},
   "outputs": [],
   "source": [
    "occupation_list = df.occupation.unique()"
   ]
  },
  {
   "cell_type": "code",
   "execution_count": 34,
   "id": "712c34bd",
   "metadata": {},
   "outputs": [
    {
     "data": {
      "text/plain": [
       "14"
      ]
     },
     "execution_count": 34,
     "metadata": {},
     "output_type": "execute_result"
    }
   ],
   "source": [
    "df.occupation.nunique()"
   ]
  },
  {
   "cell_type": "code",
   "execution_count": 35,
   "id": "631fd44f",
   "metadata": {},
   "outputs": [],
   "source": [
    "df.occupation.replace(df.occupation.unique(),range(0,14),inplace=True)"
   ]
  },
  {
   "cell_type": "code",
   "execution_count": 36,
   "id": "9ff44bf8",
   "metadata": {},
   "outputs": [
    {
     "data": {
      "text/plain": [
       "0         0\n",
       "1         1\n",
       "2         1\n",
       "3         2\n",
       "4         0\n",
       "         ..\n",
       "32555    10\n",
       "32556     9\n",
       "32557     4\n",
       "32558     4\n",
       "32559     0\n",
       "Name: occupation, Length: 32560, dtype: int64"
      ]
     },
     "execution_count": 36,
     "metadata": {},
     "output_type": "execute_result"
    }
   ],
   "source": [
    "df.occupation"
   ]
  },
  {
   "cell_type": "markdown",
   "id": "10e4ba5c",
   "metadata": {},
   "source": [
    "### (iv) relationship"
   ]
  },
  {
   "cell_type": "code",
   "execution_count": 37,
   "id": "db52f2cc",
   "metadata": {},
   "outputs": [],
   "source": [
    "relationship_list = df.relationship.unique()"
   ]
  },
  {
   "cell_type": "code",
   "execution_count": 38,
   "id": "95f7a296",
   "metadata": {},
   "outputs": [
    {
     "data": {
      "text/plain": [
       "6"
      ]
     },
     "execution_count": 38,
     "metadata": {},
     "output_type": "execute_result"
    }
   ],
   "source": [
    "df.relationship.nunique()"
   ]
  },
  {
   "cell_type": "code",
   "execution_count": 39,
   "id": "7ee9c5d2",
   "metadata": {},
   "outputs": [],
   "source": [
    "df.relationship.replace(df.relationship.unique(),range(0,6),inplace=True)"
   ]
  },
  {
   "cell_type": "code",
   "execution_count": 40,
   "id": "8cbc2929",
   "metadata": {},
   "outputs": [
    {
     "data": {
      "text/plain": [
       "0        0\n",
       "1        1\n",
       "2        0\n",
       "3        2\n",
       "4        2\n",
       "        ..\n",
       "32555    2\n",
       "32556    0\n",
       "32557    4\n",
       "32558    3\n",
       "32559    2\n",
       "Name: relationship, Length: 32560, dtype: int64"
      ]
     },
     "execution_count": 40,
     "metadata": {},
     "output_type": "execute_result"
    }
   ],
   "source": [
    "df.relationship"
   ]
  },
  {
   "cell_type": "markdown",
   "id": "c252d9ba",
   "metadata": {},
   "source": [
    "### (v) race"
   ]
  },
  {
   "cell_type": "code",
   "execution_count": 41,
   "id": "d7692d0a",
   "metadata": {},
   "outputs": [],
   "source": [
    "race_list = df.race.unique()"
   ]
  },
  {
   "cell_type": "code",
   "execution_count": 42,
   "id": "c85a4ce3",
   "metadata": {},
   "outputs": [
    {
     "data": {
      "text/plain": [
       "5"
      ]
     },
     "execution_count": 42,
     "metadata": {},
     "output_type": "execute_result"
    }
   ],
   "source": [
    "df.race.nunique()"
   ]
  },
  {
   "cell_type": "code",
   "execution_count": 43,
   "id": "00aa2c57",
   "metadata": {},
   "outputs": [],
   "source": [
    "df.race.replace(df.race.unique(),range(0,5),inplace=True)"
   ]
  },
  {
   "cell_type": "code",
   "execution_count": 44,
   "id": "f1bb96db",
   "metadata": {},
   "outputs": [
    {
     "data": {
      "text/plain": [
       "0        0\n",
       "1        0\n",
       "2        1\n",
       "3        1\n",
       "4        0\n",
       "        ..\n",
       "32555    0\n",
       "32556    0\n",
       "32557    0\n",
       "32558    0\n",
       "32559    0\n",
       "Name: race, Length: 32560, dtype: int64"
      ]
     },
     "execution_count": 44,
     "metadata": {},
     "output_type": "execute_result"
    }
   ],
   "source": [
    "df.race"
   ]
  },
  {
   "cell_type": "markdown",
   "id": "aa362bcb",
   "metadata": {},
   "source": [
    "### (vi) Sex"
   ]
  },
  {
   "cell_type": "code",
   "execution_count": 45,
   "id": "30a1e926",
   "metadata": {},
   "outputs": [
    {
     "data": {
      "text/plain": [
       "array([' Male', ' Female'], dtype=object)"
      ]
     },
     "execution_count": 45,
     "metadata": {},
     "output_type": "execute_result"
    }
   ],
   "source": [
    "## Convert sex to boolean where male = 1 and female = 0\n",
    "df.sex.unique()"
   ]
  },
  {
   "cell_type": "code",
   "execution_count": 46,
   "id": "2667b364",
   "metadata": {},
   "outputs": [],
   "source": [
    "df['sex'] = np.where(df['sex']==\" Male\", 1, 0)"
   ]
  },
  {
   "cell_type": "code",
   "execution_count": 47,
   "id": "dae2e471",
   "metadata": {},
   "outputs": [
    {
     "data": {
      "text/plain": [
       "0        1\n",
       "1        1\n",
       "2        1\n",
       "3        0\n",
       "4        0\n",
       "        ..\n",
       "32555    0\n",
       "32556    1\n",
       "32557    0\n",
       "32558    1\n",
       "32559    0\n",
       "Name: sex, Length: 32560, dtype: int32"
      ]
     },
     "execution_count": 47,
     "metadata": {},
     "output_type": "execute_result"
    }
   ],
   "source": [
    "df['sex']"
   ]
  },
  {
   "cell_type": "markdown",
   "id": "9b9139f5",
   "metadata": {},
   "source": [
    "### (vii) Native-Country"
   ]
  },
  {
   "cell_type": "code",
   "execution_count": 48,
   "id": "f90ce694",
   "metadata": {},
   "outputs": [],
   "source": [
    "## COnvert navtive-country to boolean of whether he/she is from the United-States as it is the majority.\n",
    "df.rename({'native-country': 'native-us'}, axis=1,inplace=True)"
   ]
  },
  {
   "cell_type": "code",
   "execution_count": 49,
   "id": "69473485",
   "metadata": {},
   "outputs": [],
   "source": [
    "df['native-us'] = np.where(df['native-us']==\" United-States\", 1, 0)"
   ]
  },
  {
   "cell_type": "code",
   "execution_count": 50,
   "id": "3de56a0f",
   "metadata": {},
   "outputs": [
    {
     "data": {
      "text/plain": [
       "0        1\n",
       "1        1\n",
       "2        1\n",
       "3        0\n",
       "4        1\n",
       "        ..\n",
       "32555    1\n",
       "32556    1\n",
       "32557    1\n",
       "32558    1\n",
       "32559    1\n",
       "Name: native-us, Length: 32560, dtype: int32"
      ]
     },
     "execution_count": 50,
     "metadata": {},
     "output_type": "execute_result"
    }
   ],
   "source": [
    "df['native-us']"
   ]
  },
  {
   "cell_type": "markdown",
   "id": "00dec024",
   "metadata": {},
   "source": [
    "### (viii) Income>50K"
   ]
  },
  {
   "cell_type": "code",
   "execution_count": 51,
   "id": "c2106504",
   "metadata": {},
   "outputs": [],
   "source": [
    "df['income>50K'] = np.where(df['income>50K']==\" >50K\", 1, 0)"
   ]
  },
  {
   "cell_type": "code",
   "execution_count": 52,
   "id": "fee9682a",
   "metadata": {},
   "outputs": [
    {
     "data": {
      "text/plain": [
       "0        0\n",
       "1        0\n",
       "2        0\n",
       "3        0\n",
       "4        0\n",
       "        ..\n",
       "32555    0\n",
       "32556    1\n",
       "32557    0\n",
       "32558    0\n",
       "32559    1\n",
       "Name: income>50K, Length: 32560, dtype: int32"
      ]
     },
     "execution_count": 52,
     "metadata": {},
     "output_type": "execute_result"
    }
   ],
   "source": [
    "df['income>50K']"
   ]
  },
  {
   "cell_type": "markdown",
   "id": "b10f390a",
   "metadata": {},
   "source": [
    "## f) Correlation Between Features"
   ]
  },
  {
   "cell_type": "code",
   "execution_count": 53,
   "id": "1976aa17",
   "metadata": {},
   "outputs": [
    {
     "data": {
      "text/html": [
       "<div>\n",
       "<style scoped>\n",
       "    .dataframe tbody tr th:only-of-type {\n",
       "        vertical-align: middle;\n",
       "    }\n",
       "\n",
       "    .dataframe tbody tr th {\n",
       "        vertical-align: top;\n",
       "    }\n",
       "\n",
       "    .dataframe thead th {\n",
       "        text-align: right;\n",
       "    }\n",
       "</style>\n",
       "<table border=\"1\" class=\"dataframe\">\n",
       "  <thead>\n",
       "    <tr style=\"text-align: right;\">\n",
       "      <th></th>\n",
       "      <th>age</th>\n",
       "      <th>workclass</th>\n",
       "      <th>fnlwgt</th>\n",
       "      <th>education-num</th>\n",
       "      <th>marital-status</th>\n",
       "      <th>occupation</th>\n",
       "      <th>relationship</th>\n",
       "      <th>race</th>\n",
       "      <th>sex</th>\n",
       "      <th>capital-gain</th>\n",
       "      <th>capital-loss</th>\n",
       "      <th>hours-per-week</th>\n",
       "      <th>native-us</th>\n",
       "      <th>income&gt;50K</th>\n",
       "    </tr>\n",
       "  </thead>\n",
       "  <tbody>\n",
       "    <tr>\n",
       "      <th>age</th>\n",
       "      <td>1.000000</td>\n",
       "      <td>0.091528</td>\n",
       "      <td>-0.076646</td>\n",
       "      <td>0.036527</td>\n",
       "      <td>-0.262091</td>\n",
       "      <td>-0.029990</td>\n",
       "      <td>-0.308112</td>\n",
       "      <td>-0.039999</td>\n",
       "      <td>0.088832</td>\n",
       "      <td>0.077674</td>\n",
       "      <td>0.057775</td>\n",
       "      <td>0.068756</td>\n",
       "      <td>0.017992</td>\n",
       "      <td>0.234039</td>\n",
       "    </tr>\n",
       "    <tr>\n",
       "      <th>workclass</th>\n",
       "      <td>0.091528</td>\n",
       "      <td>1.000000</td>\n",
       "      <td>-0.012541</td>\n",
       "      <td>0.144823</td>\n",
       "      <td>-0.055248</td>\n",
       "      <td>-0.061941</td>\n",
       "      <td>-0.043998</td>\n",
       "      <td>0.010896</td>\n",
       "      <td>0.000729</td>\n",
       "      <td>0.046817</td>\n",
       "      <td>0.027399</td>\n",
       "      <td>0.065810</td>\n",
       "      <td>0.031968</td>\n",
       "      <td>0.123908</td>\n",
       "    </tr>\n",
       "    <tr>\n",
       "      <th>fnlwgt</th>\n",
       "      <td>-0.076646</td>\n",
       "      <td>-0.012541</td>\n",
       "      <td>1.000000</td>\n",
       "      <td>-0.043159</td>\n",
       "      <td>0.025119</td>\n",
       "      <td>0.015721</td>\n",
       "      <td>0.024934</td>\n",
       "      <td>0.000488</td>\n",
       "      <td>0.026882</td>\n",
       "      <td>0.000437</td>\n",
       "      <td>-0.010259</td>\n",
       "      <td>-0.018770</td>\n",
       "      <td>-0.079782</td>\n",
       "      <td>-0.009481</td>\n",
       "    </tr>\n",
       "    <tr>\n",
       "      <th>education-num</th>\n",
       "      <td>0.036527</td>\n",
       "      <td>0.144823</td>\n",
       "      <td>-0.043159</td>\n",
       "      <td>1.000000</td>\n",
       "      <td>-0.101251</td>\n",
       "      <td>-0.264655</td>\n",
       "      <td>-0.142134</td>\n",
       "      <td>-0.039748</td>\n",
       "      <td>0.012256</td>\n",
       "      <td>0.122627</td>\n",
       "      <td>0.079932</td>\n",
       "      <td>0.148127</td>\n",
       "      <td>0.122957</td>\n",
       "      <td>0.335182</td>\n",
       "    </tr>\n",
       "    <tr>\n",
       "      <th>marital-status</th>\n",
       "      <td>-0.262091</td>\n",
       "      <td>-0.055248</td>\n",
       "      <td>0.025119</td>\n",
       "      <td>-0.101251</td>\n",
       "      <td>1.000000</td>\n",
       "      <td>-0.036071</td>\n",
       "      <td>0.567397</td>\n",
       "      <td>0.069532</td>\n",
       "      <td>-0.370773</td>\n",
       "      <td>-0.076112</td>\n",
       "      <td>-0.066764</td>\n",
       "      <td>-0.242484</td>\n",
       "      <td>-0.006794</td>\n",
       "      <td>-0.381245</td>\n",
       "    </tr>\n",
       "    <tr>\n",
       "      <th>occupation</th>\n",
       "      <td>-0.029990</td>\n",
       "      <td>-0.061941</td>\n",
       "      <td>0.015721</td>\n",
       "      <td>-0.264655</td>\n",
       "      <td>-0.036071</td>\n",
       "      <td>1.000000</td>\n",
       "      <td>-0.037681</td>\n",
       "      <td>0.010501</td>\n",
       "      <td>0.109192</td>\n",
       "      <td>-0.063424</td>\n",
       "      <td>-0.031071</td>\n",
       "      <td>0.026890</td>\n",
       "      <td>-0.022518</td>\n",
       "      <td>-0.127820</td>\n",
       "    </tr>\n",
       "    <tr>\n",
       "      <th>relationship</th>\n",
       "      <td>-0.308112</td>\n",
       "      <td>-0.043998</td>\n",
       "      <td>0.024934</td>\n",
       "      <td>-0.142134</td>\n",
       "      <td>0.567397</td>\n",
       "      <td>-0.037681</td>\n",
       "      <td>1.000000</td>\n",
       "      <td>0.115254</td>\n",
       "      <td>-0.489490</td>\n",
       "      <td>-0.074402</td>\n",
       "      <td>-0.076340</td>\n",
       "      <td>-0.249701</td>\n",
       "      <td>-0.049207</td>\n",
       "      <td>-0.342172</td>\n",
       "    </tr>\n",
       "    <tr>\n",
       "      <th>race</th>\n",
       "      <td>-0.039999</td>\n",
       "      <td>0.010896</td>\n",
       "      <td>0.000488</td>\n",
       "      <td>-0.039748</td>\n",
       "      <td>0.069532</td>\n",
       "      <td>0.010501</td>\n",
       "      <td>0.115254</td>\n",
       "      <td>1.000000</td>\n",
       "      <td>-0.067833</td>\n",
       "      <td>-0.007990</td>\n",
       "      <td>-0.017192</td>\n",
       "      <td>-0.033115</td>\n",
       "      <td>-0.251553</td>\n",
       "      <td>-0.067720</td>\n",
       "    </tr>\n",
       "    <tr>\n",
       "      <th>sex</th>\n",
       "      <td>0.088832</td>\n",
       "      <td>0.000729</td>\n",
       "      <td>0.026882</td>\n",
       "      <td>0.012256</td>\n",
       "      <td>-0.370773</td>\n",
       "      <td>0.109192</td>\n",
       "      <td>-0.489490</td>\n",
       "      <td>-0.067833</td>\n",
       "      <td>1.000000</td>\n",
       "      <td>0.048477</td>\n",
       "      <td>0.045572</td>\n",
       "      <td>0.229312</td>\n",
       "      <td>-0.000674</td>\n",
       "      <td>0.215995</td>\n",
       "    </tr>\n",
       "    <tr>\n",
       "      <th>capital-gain</th>\n",
       "      <td>0.077674</td>\n",
       "      <td>0.046817</td>\n",
       "      <td>0.000437</td>\n",
       "      <td>0.122627</td>\n",
       "      <td>-0.076112</td>\n",
       "      <td>-0.063424</td>\n",
       "      <td>-0.074402</td>\n",
       "      <td>-0.007990</td>\n",
       "      <td>0.048477</td>\n",
       "      <td>1.000000</td>\n",
       "      <td>-0.031614</td>\n",
       "      <td>0.078409</td>\n",
       "      <td>0.011298</td>\n",
       "      <td>0.223333</td>\n",
       "    </tr>\n",
       "    <tr>\n",
       "      <th>capital-loss</th>\n",
       "      <td>0.057775</td>\n",
       "      <td>0.027399</td>\n",
       "      <td>-0.010259</td>\n",
       "      <td>0.079932</td>\n",
       "      <td>-0.066764</td>\n",
       "      <td>-0.031071</td>\n",
       "      <td>-0.076340</td>\n",
       "      <td>-0.017192</td>\n",
       "      <td>0.045572</td>\n",
       "      <td>-0.031614</td>\n",
       "      <td>1.000000</td>\n",
       "      <td>0.054256</td>\n",
       "      <td>0.014460</td>\n",
       "      <td>0.150523</td>\n",
       "    </tr>\n",
       "    <tr>\n",
       "      <th>hours-per-week</th>\n",
       "      <td>0.068756</td>\n",
       "      <td>0.065810</td>\n",
       "      <td>-0.018770</td>\n",
       "      <td>0.148127</td>\n",
       "      <td>-0.242484</td>\n",
       "      <td>0.026890</td>\n",
       "      <td>-0.249701</td>\n",
       "      <td>-0.033115</td>\n",
       "      <td>0.229312</td>\n",
       "      <td>0.078409</td>\n",
       "      <td>0.054256</td>\n",
       "      <td>1.000000</td>\n",
       "      <td>0.008218</td>\n",
       "      <td>0.229690</td>\n",
       "    </tr>\n",
       "    <tr>\n",
       "      <th>native-us</th>\n",
       "      <td>0.017992</td>\n",
       "      <td>0.031968</td>\n",
       "      <td>-0.079782</td>\n",
       "      <td>0.122957</td>\n",
       "      <td>-0.006794</td>\n",
       "      <td>-0.022518</td>\n",
       "      <td>-0.049207</td>\n",
       "      <td>-0.251553</td>\n",
       "      <td>-0.000674</td>\n",
       "      <td>0.011298</td>\n",
       "      <td>0.014460</td>\n",
       "      <td>0.008218</td>\n",
       "      <td>1.000000</td>\n",
       "      <td>0.038948</td>\n",
       "    </tr>\n",
       "    <tr>\n",
       "      <th>income&gt;50K</th>\n",
       "      <td>0.234039</td>\n",
       "      <td>0.123908</td>\n",
       "      <td>-0.009481</td>\n",
       "      <td>0.335182</td>\n",
       "      <td>-0.381245</td>\n",
       "      <td>-0.127820</td>\n",
       "      <td>-0.342172</td>\n",
       "      <td>-0.067720</td>\n",
       "      <td>0.215995</td>\n",
       "      <td>0.223333</td>\n",
       "      <td>0.150523</td>\n",
       "      <td>0.229690</td>\n",
       "      <td>0.038948</td>\n",
       "      <td>1.000000</td>\n",
       "    </tr>\n",
       "  </tbody>\n",
       "</table>\n",
       "</div>"
      ],
      "text/plain": [
       "                     age  workclass    fnlwgt  education-num  marital-status  \\\n",
       "age             1.000000   0.091528 -0.076646       0.036527       -0.262091   \n",
       "workclass       0.091528   1.000000 -0.012541       0.144823       -0.055248   \n",
       "fnlwgt         -0.076646  -0.012541  1.000000      -0.043159        0.025119   \n",
       "education-num   0.036527   0.144823 -0.043159       1.000000       -0.101251   \n",
       "marital-status -0.262091  -0.055248  0.025119      -0.101251        1.000000   \n",
       "occupation     -0.029990  -0.061941  0.015721      -0.264655       -0.036071   \n",
       "relationship   -0.308112  -0.043998  0.024934      -0.142134        0.567397   \n",
       "race           -0.039999   0.010896  0.000488      -0.039748        0.069532   \n",
       "sex             0.088832   0.000729  0.026882       0.012256       -0.370773   \n",
       "capital-gain    0.077674   0.046817  0.000437       0.122627       -0.076112   \n",
       "capital-loss    0.057775   0.027399 -0.010259       0.079932       -0.066764   \n",
       "hours-per-week  0.068756   0.065810 -0.018770       0.148127       -0.242484   \n",
       "native-us       0.017992   0.031968 -0.079782       0.122957       -0.006794   \n",
       "income>50K      0.234039   0.123908 -0.009481       0.335182       -0.381245   \n",
       "\n",
       "                occupation  relationship      race       sex  capital-gain  \\\n",
       "age              -0.029990     -0.308112 -0.039999  0.088832      0.077674   \n",
       "workclass        -0.061941     -0.043998  0.010896  0.000729      0.046817   \n",
       "fnlwgt            0.015721      0.024934  0.000488  0.026882      0.000437   \n",
       "education-num    -0.264655     -0.142134 -0.039748  0.012256      0.122627   \n",
       "marital-status   -0.036071      0.567397  0.069532 -0.370773     -0.076112   \n",
       "occupation        1.000000     -0.037681  0.010501  0.109192     -0.063424   \n",
       "relationship     -0.037681      1.000000  0.115254 -0.489490     -0.074402   \n",
       "race              0.010501      0.115254  1.000000 -0.067833     -0.007990   \n",
       "sex               0.109192     -0.489490 -0.067833  1.000000      0.048477   \n",
       "capital-gain     -0.063424     -0.074402 -0.007990  0.048477      1.000000   \n",
       "capital-loss     -0.031071     -0.076340 -0.017192  0.045572     -0.031614   \n",
       "hours-per-week    0.026890     -0.249701 -0.033115  0.229312      0.078409   \n",
       "native-us        -0.022518     -0.049207 -0.251553 -0.000674      0.011298   \n",
       "income>50K       -0.127820     -0.342172 -0.067720  0.215995      0.223333   \n",
       "\n",
       "                capital-loss  hours-per-week  native-us  income>50K  \n",
       "age                 0.057775        0.068756   0.017992    0.234039  \n",
       "workclass           0.027399        0.065810   0.031968    0.123908  \n",
       "fnlwgt             -0.010259       -0.018770  -0.079782   -0.009481  \n",
       "education-num       0.079932        0.148127   0.122957    0.335182  \n",
       "marital-status     -0.066764       -0.242484  -0.006794   -0.381245  \n",
       "occupation         -0.031071        0.026890  -0.022518   -0.127820  \n",
       "relationship       -0.076340       -0.249701  -0.049207   -0.342172  \n",
       "race               -0.017192       -0.033115  -0.251553   -0.067720  \n",
       "sex                 0.045572        0.229312  -0.000674    0.215995  \n",
       "capital-gain       -0.031614        0.078409   0.011298    0.223333  \n",
       "capital-loss        1.000000        0.054256   0.014460    0.150523  \n",
       "hours-per-week      0.054256        1.000000   0.008218    0.229690  \n",
       "native-us           0.014460        0.008218   1.000000    0.038948  \n",
       "income>50K          0.150523        0.229690   0.038948    1.000000  "
      ]
     },
     "execution_count": 53,
     "metadata": {},
     "output_type": "execute_result"
    }
   ],
   "source": [
    "df.corr()"
   ]
  },
  {
   "cell_type": "code",
   "execution_count": 54,
   "id": "3075a316",
   "metadata": {},
   "outputs": [
    {
     "data": {
      "image/png": "[encoded data removed]",
      "text/plain": [
       "<Figure size 1296x576 with 2 Axes>"
      ]
     },
     "metadata": {
      "needs_background": "light"
     },
     "output_type": "display_data"
    }
   ],
   "source": [
    "plt.figure(figsize = (18, 8))\n",
    "sns.heatmap(df.corr(), annot=True)\n",
    "plt.show()"
   ]
  },
  {
   "cell_type": "code",
   "execution_count": 55,
   "id": "920c2b3e",
   "metadata": {},
   "outputs": [],
   "source": [
    "## No Dropping is required due to correlation > 0.5."
   ]
  },
  {
   "cell_type": "markdown",
   "id": "74676c78",
   "metadata": {},
   "source": [
    "## g) Dropping Unneeded Features"
   ]
  },
  {
   "cell_type": "code",
   "execution_count": 56,
   "id": "98e6eea2",
   "metadata": {},
   "outputs": [],
   "source": [
    "## education is not needed as education-num can be used.\n",
    "df.drop(['education'],axis=1,inplace=True)"
   ]
  },
  {
   "cell_type": "markdown",
   "id": "45d43c73",
   "metadata": {},
   "source": [
    "## h) Model Building and Training"
   ]
  },
  {
   "cell_type": "code",
   "execution_count": 57,
   "id": "99a8753d",
   "metadata": {},
   "outputs": [],
   "source": [
    "X_train = df.drop(['income>50K'],axis=1)\n",
    "y_train = df['income>50K']"
   ]
  },
  {
   "cell_type": "code",
   "execution_count": 58,
   "id": "e08b80f2",
   "metadata": {},
   "outputs": [],
   "source": [
    "## Prepare Testing Dataset similar to training dataset\n",
    "df2 = pd.read_csv(\"adult.test.csv\",delimiter=',')\n",
    "df2.columns = [\"age\", \"workclass\", \"fnlwgt\",\"education\", \"education-num\", \"marital-status\", \"occupation\", \"relationship\", \"race\", \"sex\", \"capital-gain\", \"capital-loss\", \"hours-per-week\", \"native-country\", \"income>50K\"]"
   ]
  },
  {
   "cell_type": "code",
   "execution_count": 59,
   "id": "cd8fd391",
   "metadata": {},
   "outputs": [],
   "source": [
    "df2 = df2.replace(r'\\?', np.nan, regex=True)"
   ]
  },
  {
   "cell_type": "code",
   "execution_count": 60,
   "id": "5ab86e3c",
   "metadata": {},
   "outputs": [
    {
     "data": {
      "text/plain": [
       "age                 0\n",
       "workclass         963\n",
       "fnlwgt              0\n",
       "education           0\n",
       "education-num       0\n",
       "marital-status      0\n",
       "occupation        966\n",
       "relationship        0\n",
       "race                0\n",
       "sex                 0\n",
       "capital-gain        0\n",
       "capital-loss        0\n",
       "hours-per-week      0\n",
       "native-country    274\n",
       "income>50K          0\n",
       "dtype: int64"
      ]
     },
     "execution_count": 60,
     "metadata": {},
     "output_type": "execute_result"
    }
   ],
   "source": [
    "df2.isnull().sum()"
   ]
  },
  {
   "cell_type": "code",
   "execution_count": 61,
   "id": "6a5dabe2",
   "metadata": {},
   "outputs": [],
   "source": [
    "## Replace Missing Value with the Most Frequent Value\n",
    "df2[\"workclass\"].fillna(df2[\"workclass\"].mode().iloc[0],inplace=True)\n",
    "df2[\"occupation\"].fillna(df2[\"occupation\"].mode().iloc[0],inplace=True)\n",
    "df2[\"native-country\"].fillna(df2[\"native-country\"].mode().iloc[0],inplace=True)"
   ]
  },
  {
   "cell_type": "code",
   "execution_count": 62,
   "id": "547af557",
   "metadata": {},
   "outputs": [
    {
     "data": {
      "text/plain": [
       "age               0\n",
       "workclass         0\n",
       "fnlwgt            0\n",
       "education         0\n",
       "education-num     0\n",
       "marital-status    0\n",
       "occupation        0\n",
       "relationship      0\n",
       "race              0\n",
       "sex               0\n",
       "capital-gain      0\n",
       "capital-loss      0\n",
       "hours-per-week    0\n",
       "native-country    0\n",
       "income>50K        0\n",
       "dtype: int64"
      ]
     },
     "execution_count": 62,
     "metadata": {},
     "output_type": "execute_result"
    }
   ],
   "source": [
    "df2.isnull().sum()"
   ]
  },
  {
   "cell_type": "code",
   "execution_count": 63,
   "id": "4a5d7f77",
   "metadata": {},
   "outputs": [
    {
     "data": {
      "text/plain": [
       "array([' <=50K.', ' >50K.'], dtype=object)"
      ]
     },
     "execution_count": 63,
     "metadata": {},
     "output_type": "execute_result"
    }
   ],
   "source": [
    "df2['income>50K'].unique()"
   ]
  },
  {
   "cell_type": "code",
   "execution_count": 64,
   "id": "9c2331a0",
   "metadata": {},
   "outputs": [],
   "source": [
    "df2.workclass.replace(workclass_list,range(0,8),inplace=True)\n",
    "df2[\"marital-status\"].replace(marital_status_list,range(0,7),inplace=True)\n",
    "df2.occupation.replace(occupation_list,range(0,14),inplace=True)\n",
    "df2.relationship.replace(relationship_list,range(0,6),inplace=True)\n",
    "df2.race.replace(race_list,range(0,5),inplace=True)\n",
    "df2['sex'] = np.where(df2['sex']==\" Male\", 1, 0)\n",
    "df2.rename({'native-country': 'native-us'}, axis=1,inplace=True)\n",
    "df2['native-us'] = np.where(df2['native-us']==\" United-States\", 1, 0)\n",
    "df2['income>50K'] = np.where(df2['income>50K']==\" >50K.\", 1, 0)\n",
    "df2.drop(['education'],axis=1,inplace=True)"
   ]
  },
  {
   "cell_type": "code",
   "execution_count": 65,
   "id": "3f792f7b",
   "metadata": {},
   "outputs": [
    {
     "data": {
      "text/plain": [
       "0    24719\n",
       "1     7841\n",
       "Name: income>50K, dtype: int64"
      ]
     },
     "execution_count": 65,
     "metadata": {},
     "output_type": "execute_result"
    }
   ],
   "source": [
    "df['income>50K'].value_counts()"
   ]
  },
  {
   "cell_type": "code",
   "execution_count": 66,
   "id": "a6d4a996",
   "metadata": {},
   "outputs": [],
   "source": [
    "X_test = df2.drop(['income>50K'],axis=1)\n",
    "y_test = df2['income>50K']"
   ]
  },
  {
   "cell_type": "markdown",
   "id": "48f2f935",
   "metadata": {},
   "source": [
    "### (i) Logistic Regression"
   ]
  },
  {
   "cell_type": "code",
   "execution_count": 67,
   "id": "c27b6f21",
   "metadata": {},
   "outputs": [],
   "source": [
    "from sklearn.linear_model import LogisticRegression"
   ]
  },
  {
   "cell_type": "code",
   "execution_count": 68,
   "id": "70e2952e",
   "metadata": {},
   "outputs": [],
   "source": [
    "## Instantiation\n",
    "model = LogisticRegression()"
   ]
  },
  {
   "cell_type": "code",
   "execution_count": 69,
   "id": "889a41ef",
   "metadata": {},
   "outputs": [
    {
     "data": {
      "text/plain": [
       "LogisticRegression()"
      ]
     },
     "execution_count": 69,
     "metadata": {},
     "output_type": "execute_result"
    }
   ],
   "source": [
    "model.fit(X_train,y_train)"
   ]
  },
  {
   "cell_type": "code",
   "execution_count": 70,
   "id": "63fd3378",
   "metadata": {},
   "outputs": [],
   "source": [
    "y_pred = model.predict(X_test)"
   ]
  },
  {
   "cell_type": "code",
   "execution_count": 71,
   "id": "4a6e1191",
   "metadata": {},
   "outputs": [],
   "source": [
    "from sklearn.metrics import accuracy_score, confusion_matrix"
   ]
  },
  {
   "cell_type": "code",
   "execution_count": 72,
   "id": "e11a1ef7",
   "metadata": {},
   "outputs": [
    {
     "data": {
      "text/plain": [
       "0.7977886977886978"
      ]
     },
     "execution_count": 72,
     "metadata": {},
     "output_type": "execute_result"
    }
   ],
   "source": [
    "accuracy_score(y_test,y_pred)"
   ]
  },
  {
   "cell_type": "code",
   "execution_count": 73,
   "id": "7a74bf7b",
   "metadata": {},
   "outputs": [
    {
     "data": {
      "text/html": [
       "<div>\n",
       "<style scoped>\n",
       "    .dataframe tbody tr th:only-of-type {\n",
       "        vertical-align: middle;\n",
       "    }\n",
       "\n",
       "    .dataframe tbody tr th {\n",
       "        vertical-align: top;\n",
       "    }\n",
       "\n",
       "    .dataframe thead th {\n",
       "        text-align: right;\n",
       "    }\n",
       "</style>\n",
       "<table border=\"1\" class=\"dataframe\">\n",
       "  <thead>\n",
       "    <tr style=\"text-align: right;\">\n",
       "      <th></th>\n",
       "      <th>predicted income&gt;50K</th>\n",
       "      <th>predicted income&lt;=50K</th>\n",
       "    </tr>\n",
       "  </thead>\n",
       "  <tbody>\n",
       "    <tr>\n",
       "      <th>actual income&gt;50K</th>\n",
       "      <td>11988</td>\n",
       "      <td>446</td>\n",
       "    </tr>\n",
       "    <tr>\n",
       "      <th>actual income&lt;=50k</th>\n",
       "      <td>2846</td>\n",
       "      <td>1000</td>\n",
       "    </tr>\n",
       "  </tbody>\n",
       "</table>\n",
       "</div>"
      ],
      "text/plain": [
       "                    predicted income>50K  predicted income<=50K\n",
       "actual income>50K                  11988                    446\n",
       "actual income<=50k                  2846                   1000"
      ]
     },
     "execution_count": 73,
     "metadata": {},
     "output_type": "execute_result"
    }
   ],
   "source": [
    "pd.DataFrame(confusion_matrix(y_test,y_pred),\n",
    "             index = [\"actual income>50K \", \"actual income<=50k\"],\n",
    "             columns = [\"predicted income>50K\", \"predicted income<=50K\"])"
   ]
  },
  {
   "cell_type": "markdown",
   "id": "d4282264",
   "metadata": {},
   "source": [
    "### (ii) Decision Tree"
   ]
  },
  {
   "cell_type": "code",
   "execution_count": 74,
   "id": "847ce25b",
   "metadata": {},
   "outputs": [],
   "source": [
    "from sklearn.tree import DecisionTreeClassifier"
   ]
  },
  {
   "cell_type": "code",
   "execution_count": 75,
   "id": "f4604087",
   "metadata": {},
   "outputs": [],
   "source": [
    "dtree= DecisionTreeClassifier()"
   ]
  },
  {
   "cell_type": "code",
   "execution_count": 76,
   "id": "219fc7ee",
   "metadata": {},
   "outputs": [
    {
     "data": {
      "text/plain": [
       "DecisionTreeClassifier()"
      ]
     },
     "execution_count": 76,
     "metadata": {},
     "output_type": "execute_result"
    }
   ],
   "source": [
    "dtree.fit(X_train, y_train)"
   ]
  },
  {
   "cell_type": "code",
   "execution_count": 78,
   "id": "804fd95b",
   "metadata": {},
   "outputs": [],
   "source": [
    "y_pred = dtree.predict(X_test)"
   ]
  },
  {
   "cell_type": "code",
   "execution_count": 79,
   "id": "bda3e47d",
   "metadata": {},
   "outputs": [
    {
     "data": {
      "text/plain": [
       "0.810995085995086"
      ]
     },
     "execution_count": 79,
     "metadata": {},
     "output_type": "execute_result"
    }
   ],
   "source": [
    "accuracy_score(y_test,y_pred)"
   ]
  },
  {
   "cell_type": "code",
   "execution_count": 80,
   "id": "029b6958",
   "metadata": {},
   "outputs": [
    {
     "data": {
      "text/html": [
       "<div>\n",
       "<style scoped>\n",
       "    .dataframe tbody tr th:only-of-type {\n",
       "        vertical-align: middle;\n",
       "    }\n",
       "\n",
       "    .dataframe tbody tr th {\n",
       "        vertical-align: top;\n",
       "    }\n",
       "\n",
       "    .dataframe thead th {\n",
       "        text-align: right;\n",
       "    }\n",
       "</style>\n",
       "<table border=\"1\" class=\"dataframe\">\n",
       "  <thead>\n",
       "    <tr style=\"text-align: right;\">\n",
       "      <th></th>\n",
       "      <th>predicted income&gt;50K</th>\n",
       "      <th>predicted income&lt;=50K</th>\n",
       "    </tr>\n",
       "  </thead>\n",
       "  <tbody>\n",
       "    <tr>\n",
       "      <th>actual income&gt;50K</th>\n",
       "      <td>10844</td>\n",
       "      <td>1590</td>\n",
       "    </tr>\n",
       "    <tr>\n",
       "      <th>actual income&lt;=50k</th>\n",
       "      <td>1487</td>\n",
       "      <td>2359</td>\n",
       "    </tr>\n",
       "  </tbody>\n",
       "</table>\n",
       "</div>"
      ],
      "text/plain": [
       "                    predicted income>50K  predicted income<=50K\n",
       "actual income>50K                  10844                   1590\n",
       "actual income<=50k                  1487                   2359"
      ]
     },
     "execution_count": 80,
     "metadata": {},
     "output_type": "execute_result"
    }
   ],
   "source": [
    "pd.DataFrame(confusion_matrix(y_test,y_pred),\n",
    "             index = [\"actual income>50K \", \"actual income<=50k\"],\n",
    "             columns = [\"predicted income>50K\", \"predicted income<=50K\"])"
   ]
  },
  {
   "cell_type": "markdown",
   "id": "e8d9da0b",
   "metadata": {},
   "source": [
    "from sklearn import tree"
   ]
  },
  {
   "cell_type": "code",
   "execution_count": null,
   "id": "629050cb",
   "metadata": {},
   "outputs": [],
   "source": [
    "## Tree Visulaization\n",
    "plt.figure(figsize=(10,12))\n",
    "tree.plot_tree(dtree, filled = True) # color\n",
    "plt.show()"
   ]
  },
  {
   "cell_type": "markdown",
   "id": "07581fb3",
   "metadata": {},
   "source": [
    "### (iii) Random Forest Classifier"
   ]
  },
  {
   "cell_type": "code",
   "execution_count": null,
   "id": "e17f4937",
   "metadata": {},
   "outputs": [],
   "source": [
    "from sklearn.ensemble import RandomForestClassifier"
   ]
  },
  {
   "cell_type": "code",
   "execution_count": null,
   "id": "e3a493fd",
   "metadata": {},
   "outputs": [],
   "source": [
    "# n_estimators: number of trees in the random forest\n",
    "rfc= RandomForestClassifier(n_estimators=500)"
   ]
  },
  {
   "cell_type": "code",
   "execution_count": null,
   "id": "8cc91392",
   "metadata": {},
   "outputs": [],
   "source": [
    "rfc.fit(X_train,y_train)"
   ]
  },
  {
   "cell_type": "code",
   "execution_count": null,
   "id": "1e5879fc",
   "metadata": {},
   "outputs": [],
   "source": [
    "#list of decision trees made by random forest\n",
    "rfc.estimators_"
   ]
  }
 ],
 "metadata": {
  "kernelspec": {
   "display_name": "Python 3",
   "language": "python",
   "name": "python3"
  },
  "language_info": {
   "codemirror_mode": {
    "name": "ipython",
    "version": 3
   },
   "file_extension": ".py",
   "mimetype": "text/x-python",
   "name": "python",
   "nbconvert_exporter": "python",
   "pygments_lexer": "ipython3",
   "version": "3.8.8"
  }
 },
 "nbformat": 4,
 "nbformat_minor": 5
}
